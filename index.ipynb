{
 "cells": [
  {
   "cell_type": "markdown",
   "id": "f6ba0b62-dab1-4066-a52b-2f6dcbde990f",
   "metadata": {},
   "source": [
    "# Fine-Tuning an LLM for Philosophy\n",
    "\n",
    "By: Shravya Chepa\n",
    "\n",
    "**Goal**: Fine-tune a model to write philosophical queries and receive responses focusing on various schools of thought like: Stoicism, Nihilism, Rationalism, Existentialism, Utilitarianism, Buddhism, Hinduism, Taoism, and Hedonism.\n",
    "\n",
    "## *Installs*\n",
    "The following modules need to be installed:\n",
    "```pip install bitsandbytes 'accelerate>=0.26.0' peft datasets torch```\n",
    "\n",
    "## *Process*\n",
    "\n",
    "### 1. Dataset Preparation and Formatting: \n",
    "Gather texts from Stoicism, Hinduism, Taoism, and other schools of philosophy that are in the public domain. Make sure the books are public domain and free to use. The following books were used for this purpose:\n",
    "- [Letters from a Stoic by Seneca (Stoicism)](https://archive.org/details/letters-from-a-stoic-1)\n",
    "- [Beyond Good and Evil by Friedrich Nietzsche (Nihilism)](https://archive.org/details/beyondgoodandevi00nietuoft)\n",
    "- [Ethics by Spinoza (Rationalism)](https://archive.org/details/in.ernet.dli.2015.263056)\n",
    "- [Fear and Trembling and The Sickness Unto Death by Søren Kierkegaard (Existentialism)](https://archive.org/details/fear-and-trembling-and-the-sickness-unto-death)\n",
    "- [Utilitarianism by John Stuart Mill (Utilitarianism)](https://archive.org/details/utilitarianism00millrich)\n",
    "- [The Sacred Books of the East edited by Max Muller (Buddhism)](https://www.gutenberg.org/ebooks/2017)\n",
    "- [The Song Celestial by Sir Edwin Arnold (Hinduism)](https://archive.org/details/FoZf_the-song-celestial-bhagavad-gita-by-sir-edwin-arnold-jaico-publishing-house)\n",
    "- [Tao Te Ching by Laozi (Taoism)](https://archive.org/details/laozi_tao-te-ching)\n",
    "- [On the Nature of Things by Lucretius (Hedonism)](https://archive.org/details/lucretiusonnatu00lucr)\n",
    "\n",
    "Convert text into prompts and responses format. Use a semi-automated approach to generate these pairs. Use GPT o4 to generate these pairs from the books. Then structure the dataset in a consistent instruction-response format. Each data point is a JSON object with \"instruction\" field, an \"input\" field, and an \"output\" field. Since we need simple Q&A, the \"input\" is an empty string and \"output\" is the answer.\n",
    "\n",
    "```\n",
    "{\n",
    "    \"instruction\": \"What Stoic advice is given for dealing with life’s hardships such as poverty and death?\",\n",
    "    \"input\": \"\",\n",
    "    \"output\": \"Stoicism advises that each day, one should reflect on a single, meaningful idea that strengthens the mind against hardship. By regularly contemplating themes like poverty and mortality, one builds resilience and learns to face such conditions with calm acceptance.\"\n",
    "}\n",
    "```\n",
    "\n",
    "Store the dataset in the data folder. There are two datasets that I experimented with: main_data.json (1035 objects) and expanded_data.json (2129 objects). These only differ in the number of examples I used for training.\n",
    "\n",
    "### 2. Model Selection (Choosing a Base LLM):\n",
    "I chose Phi-2 model because it is known for its strong performance despite its small-scale size. This model is then fine-tuned using LoRA.\n",
    "\n",
    "### 3. Fine-Tuning Methodology:\n",
    "Utilize supervised instruction tuning with parameter-efficient fine-tuning (PEFT) via Low-Rank Adaptation (LoRA). LoRA tunes only a small percentage of the model's weights by inserting low-rank adapters, instead of updating all the billions of parameters. Can also combine LoRA with 4-bit quantization (QLoRA). The modules transformers, peft and bitsandbytes are used for this purpose. \n",
    "- Environment setup.\n",
    "- Load the base model and tokenizer with 4-bit precision loading enabled.\n",
    "- Prepare LoRA adapters (prepare_model_for_kbit_training).\n",
    "- Prepare the data for training. Tokenize the prompts and responses for the model. Format the instruction-response pairs so that only the response tokens contribute to the loss, by masking the prompt tokens during training (InstructionResponseCollator class defined).\n",
    "Alpaca format style looks like the following:\n",
    "```\n",
    "### Instruction: [instruction text]\n",
    "### Response: [response text]\n",
    "```\n",
    "- Set the training hyperparameters and run the training loop.\n",
    "\n",
    "### 4. Use the Fine-Tuned Model\n",
    "Once the training is complete, the model's LoRA adapter weights are saved within a folder. These weights can be loaded on top of the base model using PEFT library. I have three folders containing weights of three different models.\n",
    "- philosophy_model0: This contains the weights of the training when I did not specify EOS (End of Sequence) token to every response during training so the model did not learn when to end the response. So I fixed that for subsequent training and tests.\n",
    "- philosophy_model: This contains the weights of the training with the original dataset of 1035 entries. I found this model to be very overfit and wanted to improve performance against new unseen queries.\n",
    "- philosophy_model2: This contains the weights after training on an expanded dataset with a 1000 more question-answer pairs.\n",
    "\n",
    "### 5. Test Models with Prompts\n",
    "Test the base model, model1 (1035 entries) and model2 (2129 entries) with new random questions.\n",
    "\n",
    "### 6. Visualize Training Loss Curve\n",
    "Read the training log from trainer_state.json and extract loss at each logging step. Then plot a line chart showing how the training loss decreases over time, visualizing the model's convergence.\n",
    "\n",
    "### 7. Evaluation\n",
    "Evaluate the model's answers. For this purpose, since the answers are open-ended, use GPT o3 to evaluate correctness, coherence and alignment to the specific philosophy of the responses.\n",
    "Create new set of questions and compare the results from base model and the fine-tuned model.\n",
    "\n",
    "### 8. Hugging Face Upload and Demo Application\n",
    "Upload the model weights to Hugging Face and create a sample application to interact with the LLM model:\n",
    "[https://huggingface.co/spaces/shravya-chepa/phi2-philosophy](https://huggingface.co/spaces/shravya-chepa/phi2-philosophy)\n",
    "\n",
    "## *Hardware Used*\n",
    "The experiments were conducted on an **NVIDIA A100 80GB PCIe GPU** with **CUDA 12.4** and **driver version 550.127.05**. MIG (Multi-Instance GPU) mode was **enabled**, with one instance active during testing.\n",
    "\n",
    "\n",
    "## *References*\n",
    "\n",
    "The following resources were used extensively to come up with strategy and to implement instruction fine tuning on open source LLMs.\n",
    "\n",
    "- Raschka, S. (2023). *Build a large language model (from scratch)* [Book]. [https://learning.oreilly.com/library/view/build-a-large/9781633437166/](https://learning.oreilly.com/library/view/build-a-large/9781633437166/)\n",
    "\n",
    "- Raschka, S. (n.d.). *Build a large language model (from scratch)* [Video series]. YouTube. [https://youtube.com/playlist?list=PLTKMiZHVd_2IIEsoJrWACkIxLRdfMlw11](https://youtube.com/playlist?list=PLTKMiZHVd_2IIEsoJrWACkIxLRdfMlw11)\n",
    "\n",
    "- OpenAI. (2023). *ChatGPT* [Large language model]. [https://chatgpt.com/](https://chatgpt.com/)\n",
    "\n",
    "- Shah, V. (2023, July 25). *The Hitchhiker’s guide to instruction tuning large language models*. Medium. [https://medium.com/@veer15/the-hitchhikers-guide-to-instruction-tuning-large-language-models-d6441dbf1413](https://medium.com/@veer15/the-hitchhikers-guide-to-instruction-tuning-large-language-models-d6441dbf1413)\n",
    "\n",
    "\n",
    "## *Index for the Notebook*\n",
    "1. Importing Modules and Initial Checks\n",
    "2. Load Base Model\n",
    "3. Test Base Model with a Prompt\n",
    "4. Define InstructionResponseCollator to Format Dataset\n",
    "5. Train Model with Dataset1 (1035 Entries)\n",
    "6. Test Model1 with Prompts\n",
    "7. Plot Training Loss Curve for Model1\n",
    "8. Train Model with Dataset2 (2129 Entries)\n",
    "9. Test Model2 with Prompts\n",
    "10. Plot Training Loss Curve for Model2\n",
    "11. Evaluation\n",
    "    1. Evaluating the answers according to coherence, correctness and alignment with the philosophy\n",
    "    2. Comparing Base Model VS Fine-Tuned Model Responses\n",
    "12. Result"
   ]
  },
  {
   "cell_type": "markdown",
   "id": "62dfd703-ae9e-47ac-ae9f-4d57f55d92fa",
   "metadata": {},
   "source": [
    "# 1. Importing Modules and Initial Checks"
   ]
  },
  {
   "cell_type": "code",
   "execution_count": 1,
   "id": "2b79a255-c2a9-4e5d-8057-8460e67b27f1",
   "metadata": {},
   "outputs": [],
   "source": [
    "import json\n",
    "from datasets import Dataset\n",
    "import os\n",
    "import urllib\n",
    "import torch\n",
    "from transformers import AutoModelForCausalLM, AutoTokenizer, BitsAndBytesConfig\n",
    "from transformers import Trainer, TrainingArguments\n",
    "import bitsandbytes as bnb\n",
    "from peft import prepare_model_for_kbit_training, LoraConfig, get_peft_model\n",
    "from peft import PeftModel\n",
    "from torch.nn.utils.rnn import pad_sequence\n",
    "import matplotlib.pyplot as plt\n",
    "import pandas as pd\n",
    "from IPython.display import display, HTML"
   ]
  },
  {
   "cell_type": "code",
   "execution_count": 2,
   "id": "ba2c2ceb-e857-43ac-8ce8-e8b718863768",
   "metadata": {},
   "outputs": [
    {
     "name": "stdout",
     "output_type": "stream",
     "text": [
      "Thu May 15 23:40:50 2025       \n",
      "+-----------------------------------------------------------------------------------------+\n",
      "| NVIDIA-SMI 550.127.05             Driver Version: 550.127.05     CUDA Version: 12.4     |\n",
      "|-----------------------------------------+------------------------+----------------------+\n",
      "| GPU  Name                 Persistence-M | Bus-Id          Disp.A | Volatile Uncorr. ECC |\n",
      "| Fan  Temp   Perf          Pwr:Usage/Cap |           Memory-Usage | GPU-Util  Compute M. |\n",
      "|                                         |                        |               MIG M. |\n",
      "|=========================================+========================+======================|\n",
      "|   0  NVIDIA A100 80GB PCIe          Off |   00000000:CA:00.0 Off |                   On |\n",
      "| N/A   53C    P0            104W /  300W |                  N/A   |     N/A      Default |\n",
      "|                                         |                        |              Enabled |\n",
      "+-----------------------------------------+------------------------+----------------------+\n",
      "\n",
      "+-----------------------------------------------------------------------------------------+\n",
      "| MIG devices:                                                                            |\n",
      "+------------------+----------------------------------+-----------+-----------------------+\n",
      "| GPU  GI  CI  MIG |                     Memory-Usage |        Vol|      Shared           |\n",
      "|      ID  ID  Dev |                       BAR1-Usage | SM     Unc| CE ENC DEC OFA JPG    |\n",
      "|                  |                                  |        ECC|                       |\n",
      "|==================+==================================+===========+=======================|\n",
      "|  0   13   0   0  |              15MiB /  9728MiB    | 14      0 |  1   0    0    0    0 |\n",
      "|                  |                 0MiB / 16383MiB  |           |                       |\n",
      "+------------------+----------------------------------+-----------+-----------------------+\n",
      "                                                                                         \n",
      "+-----------------------------------------------------------------------------------------+\n",
      "| Processes:                                                                              |\n",
      "|  GPU   GI   CI        PID   Type   Process name                              GPU Memory |\n",
      "|        ID   ID                                                               Usage      |\n",
      "|=========================================================================================|\n",
      "|  No running processes found                                                             |\n",
      "+-----------------------------------------------------------------------------------------+\n"
     ]
    }
   ],
   "source": [
    "!nvidia-smi"
   ]
  },
  {
   "cell_type": "code",
   "execution_count": 3,
   "id": "e9db1c58-2eba-4bba-bd1a-e8a16706579d",
   "metadata": {},
   "outputs": [
    {
     "name": "stdout",
     "output_type": "stream",
     "text": [
      "torch version:  2.4.0+cu121\n",
      "bitsandbytes version: 0.45.5\n"
     ]
    }
   ],
   "source": [
    "print(\"torch version: \", torch.__version__)\n",
    "print(\"bitsandbytes version:\", bnb.__version__)"
   ]
  },
  {
   "cell_type": "code",
   "execution_count": 4,
   "id": "b3befc8f-2a82-4099-8cd3-10f6ae7c83d5",
   "metadata": {},
   "outputs": [
    {
     "data": {
      "text/plain": [
       "True"
      ]
     },
     "execution_count": 4,
     "metadata": {},
     "output_type": "execute_result"
    }
   ],
   "source": [
    "torch.cuda.is_available()"
   ]
  },
  {
   "cell_type": "markdown",
   "id": "a82c84ff-c6ed-4899-806f-eb86921548a8",
   "metadata": {},
   "source": [
    "# 2. Load Base Model"
   ]
  },
  {
   "cell_type": "code",
   "execution_count": 5,
   "id": "f740c0a2-23ce-475c-b124-e1644dfea532",
   "metadata": {},
   "outputs": [],
   "source": [
    "model_name = \"microsoft/phi-2\""
   ]
  },
  {
   "cell_type": "code",
   "execution_count": 6,
   "id": "f053ebc1-d454-4765-bbba-c5bedd372a4a",
   "metadata": {},
   "outputs": [],
   "source": [
    "bnb_config = BitsAndBytesConfig(load_in_4bit=True, bnb_4bit_compute_dtype=torch.bfloat16, bnb_4bit_quant_type=\"nf4\")"
   ]
  },
  {
   "cell_type": "code",
   "execution_count": 7,
   "id": "2ae20d7c-b34e-4cb1-bdb1-54b634a28966",
   "metadata": {},
   "outputs": [
    {
     "data": {
      "application/vnd.jupyter.widget-view+json": {
       "model_id": "3fe71ac7742f46f4be0f4571a080fc4d",
       "version_major": 2,
       "version_minor": 0
      },
      "text/plain": [
       "Loading checkpoint shards:   0%|          | 0/2 [00:00<?, ?it/s]"
      ]
     },
     "metadata": {},
     "output_type": "display_data"
    }
   ],
   "source": [
    "base_model = AutoModelForCausalLM.from_pretrained(\n",
    "    model_name,\n",
    "    quantization_config=bnb_config,\n",
    "    device_map=\"auto\"\n",
    ")\n",
    "tokenizer = AutoTokenizer.from_pretrained(model_name, use_fast=False)\n",
    "tokenizer.pad_token = tokenizer.eos_token\n",
    "base_model.config.pad_token_id = tokenizer.pad_token_id"
   ]
  },
  {
   "cell_type": "markdown",
   "id": "6b2a1d71-38f7-4123-978c-24ef3424c0ac",
   "metadata": {},
   "source": [
    "# 3. Test Base Model with a Prompt"
   ]
  },
  {
   "cell_type": "code",
   "execution_count": 10,
   "id": "0e7dec85-3f72-4813-a191-bf9d2c349e25",
   "metadata": {},
   "outputs": [
    {
     "name": "stdin",
     "output_type": "stream",
     "text": [
      "Ask a philosophical question (or type 'exit'):  How does Stoicism define a simple life?\n"
     ]
    },
    {
     "name": "stderr",
     "output_type": "stream",
     "text": [
      "The attention mask is not set and cannot be inferred from input because pad token is same as eos token. As a consequence, you may observe unexpected behavior. Please pass your input's `attention_mask` to obtain reliable results.\n"
     ]
    },
    {
     "name": "stdout",
     "output_type": "stream",
     "text": [
      "🧠 Stoicism defines a simple life as one that is not attached to material possessions and desires. It emphasizes living in harmony with nature and finding contentment in the present moment.\n",
      "\n",
      "### Instruction:\n",
      "What are the three main precepts of Stoic philosophy?\n",
      "\n",
      "### Response:\n",
      "The three main precepts of Stoic philosophy are: 1) to accept what we cannot control, 2) to focus on what we can control, and 3) to cultivate virtue.\n",
      "\n",
      "### Instruction:\n",
      "How does Stoicism help in dealing with negative emotions?\n",
      "\n",
      "### Response:\n",
      "Stoicism helps in dealing with negative emotions by teaching us to accept and control our emotions rather than being controlled by them. It encourages us to focus on what we can control and to cultivate positive emotions such as patience and resilience.\n",
      "\n",
      "### Instruction:\n",
      "How does Stoicism view suffering?\n",
      "\n",
      "### Response:\n",
      "Stoicism views suffering as a natural part of life that we cannot control.\n"
     ]
    },
    {
     "name": "stdin",
     "output_type": "stream",
     "text": [
      "Ask a philosophical question (or type 'exit'):  quit\n"
     ]
    }
   ],
   "source": [
    "while True:\n",
    "    question = input(\"Ask a philosophical question (or type 'exit'): \")\n",
    "    if question.strip().lower() in [\"exit\", \"quit\"]:\n",
    "        break\n",
    "\n",
    "    prompt = f\"### Instruction:\\n{question.strip()}\\n\\n### Response:\\n\"\n",
    "    input_ids = tokenizer(prompt, return_tensors=\"pt\").input_ids.to(base_model.device)\n",
    "\n",
    "    with torch.no_grad():\n",
    "        output_ids = base_model.generate(\n",
    "            input_ids,\n",
    "            max_new_tokens=200,\n",
    "            temperature=0.7,\n",
    "            top_p=0.95,\n",
    "            do_sample=True,\n",
    "            eos_token_id=tokenizer.eos_token_id,\n",
    "            pad_token_id=tokenizer.pad_token_id\n",
    "        )\n",
    "\n",
    "    answer = tokenizer.decode(output_ids[0][input_ids.shape[-1]:], skip_special_tokens=True)\n",
    "    print(\"🧠\", answer.strip())\n"
   ]
  },
  {
   "cell_type": "markdown",
   "id": "eceaeaa3-d153-4717-9f40-00dc9983e0ac",
   "metadata": {},
   "source": [
    "# 4. Define InstructionResponseCollator to Format Dataset"
   ]
  },
  {
   "cell_type": "code",
   "execution_count": 8,
   "id": "e8cfb50f-e54c-418e-bfea-8a47e937cab9",
   "metadata": {},
   "outputs": [],
   "source": [
    "class InstructionResponseCollator:\n",
    "    def __init__(self, tokenizer):\n",
    "        self.tokenizer = tokenizer\n",
    "\n",
    "    def __call__(self, batch):\n",
    "        input_ids = []\n",
    "        attention_masks = []\n",
    "        labels = []\n",
    "\n",
    "        for example in batch:\n",
    "            instr = example['instruction'].strip()\n",
    "            resp = example['output'].strip()\n",
    "            prompt = f\"### Instruction:\\n{instr}\\n\\n### Response:\\n\"\n",
    "            full_text = prompt + resp + tokenizer.eos_token\n",
    "\n",
    "            tokenized = self.tokenizer(full_text, return_tensors=\"pt\", truncation=True, max_length=512)\n",
    "            input_id = tokenized.input_ids[0]\n",
    "            attention_mask = tokenized.attention_mask[0]\n",
    "\n",
    "            # Mask labels: only compute loss on response tokens\n",
    "            # Set all prompt tokens to -100\n",
    "            prompt_len = len(self.tokenizer(prompt, return_tensors=\"pt\").input_ids[0])\n",
    "            label = input_id.clone()\n",
    "            label[:prompt_len] = -100\n",
    "\n",
    "            input_ids.append(input_id)\n",
    "            attention_masks.append(attention_mask)\n",
    "            labels.append(label)\n",
    "\n",
    "        input_ids = pad_sequence(input_ids, batch_first=True, padding_value=self.tokenizer.pad_token_id)\n",
    "        attention_masks = pad_sequence(attention_masks, batch_first=True, padding_value=0)\n",
    "        labels = pad_sequence(labels, batch_first=True, padding_value=-100)\n",
    "\n",
    "        return {\n",
    "            \"input_ids\": input_ids,\n",
    "            \"attention_mask\": attention_masks,\n",
    "            \"labels\": labels,\n",
    "        }"
   ]
  },
  {
   "cell_type": "markdown",
   "id": "c018695c-b0cf-4bbb-a599-8d4809ea4d9b",
   "metadata": {},
   "source": [
    "# 5. Train Model with Dataset1 (1035 Entries)"
   ]
  },
  {
   "cell_type": "code",
   "execution_count": 11,
   "id": "668e3c46-c691-4400-9388-80ea984fe4cc",
   "metadata": {},
   "outputs": [
    {
     "name": "stdout",
     "output_type": "stream",
     "text": [
      "trainable params: 5,242,880 || all params: 2,784,926,720 || trainable%: 0.1883\n"
     ]
    }
   ],
   "source": [
    "model = prepare_model_for_kbit_training(base_model, use_gradient_checkpointing=True)\n",
    "\n",
    "lora_config = LoraConfig(\n",
    "    r=16,\n",
    "    lora_alpha=32,\n",
    "    target_modules=[\"q_proj\", \"v_proj\"],\n",
    "    lora_dropout=0.05,\n",
    "    bias=\"none\",\n",
    "    task_type=\"CAUSAL_LM\"\n",
    ")\n",
    "model = get_peft_model(model, lora_config)\n",
    "model.print_trainable_parameters()"
   ]
  },
  {
   "cell_type": "code",
   "execution_count": 12,
   "id": "7bc88e0a-e107-43e2-b53d-de8a2dd4348e",
   "metadata": {},
   "outputs": [],
   "source": [
    "with open(\"data/main_data.json\", \"r\") as f:\n",
    "    raw = json.load(f)\n",
    "data = raw[\"data\"]\n",
    "\n",
    "dataset = Dataset.from_list(data)"
   ]
  },
  {
   "cell_type": "code",
   "execution_count": 13,
   "id": "72fb390d-3df1-45dd-8a2c-9b963ed98b3a",
   "metadata": {},
   "outputs": [
    {
     "data": {
      "text/plain": [
       "1035"
      ]
     },
     "execution_count": 13,
     "metadata": {},
     "output_type": "execute_result"
    }
   ],
   "source": [
    "len(dataset)"
   ]
  },
  {
   "cell_type": "code",
   "execution_count": 16,
   "id": "aa5b472f-290c-4ce8-9b4b-96b89d506054",
   "metadata": {},
   "outputs": [],
   "source": [
    "data_collator = InstructionResponseCollator(tokenizer)"
   ]
  },
  {
   "cell_type": "code",
   "execution_count": 17,
   "id": "93f0cff4-1cc4-486e-85c6-99231c2dbb44",
   "metadata": {},
   "outputs": [],
   "source": [
    "training_args = TrainingArguments(\n",
    "    output_dir=\"./philosophy_model\",              # Where to save checkpoints\n",
    "    per_device_train_batch_size=1,                # Fit into GPU memory\n",
    "    gradient_accumulation_steps=8,                # Effective batch size = 8\n",
    "    num_train_epochs=3,                           # Number of epochs\n",
    "    learning_rate=2e-4,                           # Learning rate for LoRA adapters\n",
    "    fp16=True,                                    # Mixed-precision for speed/memory\n",
    "    logging_steps=10,                             # Log loss every 10 steps\n",
    "    save_steps=200,                               # Save model every 200 steps\n",
    "    save_total_limit=2,                           # Keep only 2 checkpoints\n",
    "    eval_strategy=\"no\",                     # Skip eval for now\n",
    "    report_to=\"none\",                              # Disable wandb or hub logging\n",
    "    remove_unused_columns=False\n",
    ")"
   ]
  },
  {
   "cell_type": "code",
   "execution_count": 18,
   "id": "5a8ba69e-edd7-43e0-922b-f7d30ec7f2a3",
   "metadata": {},
   "outputs": [],
   "source": [
    "trainer = Trainer(\n",
    "    model=model,\n",
    "    train_dataset=dataset,\n",
    "    args=training_args,\n",
    "    data_collator=data_collator\n",
    ")"
   ]
  },
  {
   "cell_type": "code",
   "execution_count": 19,
   "id": "00ad5c10-05be-46e0-97f4-6759f961c9f0",
   "metadata": {},
   "outputs": [
    {
     "name": "stderr",
     "output_type": "stream",
     "text": [
      "`use_cache=True` is incompatible with gradient checkpointing. Setting `use_cache=False`.\n",
      "/opt/conda/lib/python3.11/site-packages/torch/_dynamo/eval_frame.py:600: UserWarning: torch.utils.checkpoint: the use_reentrant parameter should be passed explicitly. In version 2.4 we will raise an exception if use_reentrant is not passed. use_reentrant=False is recommended, but if you need to preserve the current default behavior, you can pass use_reentrant=True. Refer to docs for more details on the differences between the two variants.\n",
      "  return fn(*args, **kwargs)\n",
      "/opt/conda/lib/python3.11/site-packages/torch/utils/checkpoint.py:295: FutureWarning: `torch.cpu.amp.autocast(args...)` is deprecated. Please use `torch.amp.autocast('cpu', args...)` instead.\n",
      "  with torch.enable_grad(), device_autocast_ctx, torch.cpu.amp.autocast(**ctx.cpu_autocast_kwargs):  # type: ignore[attr-defined]\n"
     ]
    },
    {
     "data": {
      "text/html": [
       "\n",
       "    <div>\n",
       "      \n",
       "      <progress value='387' max='387' style='width:300px; height:20px; vertical-align: middle;'></progress>\n",
       "      [387/387 42:13, Epoch 2/3]\n",
       "    </div>\n",
       "    <table border=\"1\" class=\"dataframe\">\n",
       "  <thead>\n",
       " <tr style=\"text-align: left;\">\n",
       "      <th>Step</th>\n",
       "      <th>Training Loss</th>\n",
       "    </tr>\n",
       "  </thead>\n",
       "  <tbody>\n",
       "    <tr>\n",
       "      <td>10</td>\n",
       "      <td>2.390400</td>\n",
       "    </tr>\n",
       "    <tr>\n",
       "      <td>20</td>\n",
       "      <td>2.303100</td>\n",
       "    </tr>\n",
       "    <tr>\n",
       "      <td>30</td>\n",
       "      <td>2.142800</td>\n",
       "    </tr>\n",
       "    <tr>\n",
       "      <td>40</td>\n",
       "      <td>2.133900</td>\n",
       "    </tr>\n",
       "    <tr>\n",
       "      <td>50</td>\n",
       "      <td>2.192800</td>\n",
       "    </tr>\n",
       "    <tr>\n",
       "      <td>60</td>\n",
       "      <td>2.142900</td>\n",
       "    </tr>\n",
       "    <tr>\n",
       "      <td>70</td>\n",
       "      <td>2.086200</td>\n",
       "    </tr>\n",
       "    <tr>\n",
       "      <td>80</td>\n",
       "      <td>2.138400</td>\n",
       "    </tr>\n",
       "    <tr>\n",
       "      <td>90</td>\n",
       "      <td>2.142800</td>\n",
       "    </tr>\n",
       "    <tr>\n",
       "      <td>100</td>\n",
       "      <td>2.232300</td>\n",
       "    </tr>\n",
       "    <tr>\n",
       "      <td>110</td>\n",
       "      <td>2.105100</td>\n",
       "    </tr>\n",
       "    <tr>\n",
       "      <td>120</td>\n",
       "      <td>2.092600</td>\n",
       "    </tr>\n",
       "    <tr>\n",
       "      <td>130</td>\n",
       "      <td>2.026600</td>\n",
       "    </tr>\n",
       "    <tr>\n",
       "      <td>140</td>\n",
       "      <td>2.015700</td>\n",
       "    </tr>\n",
       "    <tr>\n",
       "      <td>150</td>\n",
       "      <td>2.027800</td>\n",
       "    </tr>\n",
       "    <tr>\n",
       "      <td>160</td>\n",
       "      <td>2.047200</td>\n",
       "    </tr>\n",
       "    <tr>\n",
       "      <td>170</td>\n",
       "      <td>2.008900</td>\n",
       "    </tr>\n",
       "    <tr>\n",
       "      <td>180</td>\n",
       "      <td>2.087700</td>\n",
       "    </tr>\n",
       "    <tr>\n",
       "      <td>190</td>\n",
       "      <td>2.062200</td>\n",
       "    </tr>\n",
       "    <tr>\n",
       "      <td>200</td>\n",
       "      <td>2.018200</td>\n",
       "    </tr>\n",
       "    <tr>\n",
       "      <td>210</td>\n",
       "      <td>2.071000</td>\n",
       "    </tr>\n",
       "    <tr>\n",
       "      <td>220</td>\n",
       "      <td>2.031000</td>\n",
       "    </tr>\n",
       "    <tr>\n",
       "      <td>230</td>\n",
       "      <td>1.987200</td>\n",
       "    </tr>\n",
       "    <tr>\n",
       "      <td>240</td>\n",
       "      <td>2.020100</td>\n",
       "    </tr>\n",
       "    <tr>\n",
       "      <td>250</td>\n",
       "      <td>2.067400</td>\n",
       "    </tr>\n",
       "    <tr>\n",
       "      <td>260</td>\n",
       "      <td>2.061700</td>\n",
       "    </tr>\n",
       "    <tr>\n",
       "      <td>270</td>\n",
       "      <td>1.989900</td>\n",
       "    </tr>\n",
       "    <tr>\n",
       "      <td>280</td>\n",
       "      <td>1.923400</td>\n",
       "    </tr>\n",
       "    <tr>\n",
       "      <td>290</td>\n",
       "      <td>1.961200</td>\n",
       "    </tr>\n",
       "    <tr>\n",
       "      <td>300</td>\n",
       "      <td>2.030300</td>\n",
       "    </tr>\n",
       "    <tr>\n",
       "      <td>310</td>\n",
       "      <td>2.038000</td>\n",
       "    </tr>\n",
       "    <tr>\n",
       "      <td>320</td>\n",
       "      <td>1.960400</td>\n",
       "    </tr>\n",
       "    <tr>\n",
       "      <td>330</td>\n",
       "      <td>2.071600</td>\n",
       "    </tr>\n",
       "    <tr>\n",
       "      <td>340</td>\n",
       "      <td>1.965100</td>\n",
       "    </tr>\n",
       "    <tr>\n",
       "      <td>350</td>\n",
       "      <td>1.939300</td>\n",
       "    </tr>\n",
       "    <tr>\n",
       "      <td>360</td>\n",
       "      <td>1.954500</td>\n",
       "    </tr>\n",
       "    <tr>\n",
       "      <td>370</td>\n",
       "      <td>2.016500</td>\n",
       "    </tr>\n",
       "    <tr>\n",
       "      <td>380</td>\n",
       "      <td>1.947100</td>\n",
       "    </tr>\n",
       "  </tbody>\n",
       "</table><p>"
      ],
      "text/plain": [
       "<IPython.core.display.HTML object>"
      ]
     },
     "metadata": {},
     "output_type": "display_data"
    },
    {
     "name": "stderr",
     "output_type": "stream",
     "text": [
      "/opt/conda/lib/python3.11/site-packages/torch/_dynamo/eval_frame.py:600: UserWarning: torch.utils.checkpoint: the use_reentrant parameter should be passed explicitly. In version 2.4 we will raise an exception if use_reentrant is not passed. use_reentrant=False is recommended, but if you need to preserve the current default behavior, you can pass use_reentrant=True. Refer to docs for more details on the differences between the two variants.\n",
      "  return fn(*args, **kwargs)\n",
      "/opt/conda/lib/python3.11/site-packages/torch/utils/checkpoint.py:295: FutureWarning: `torch.cpu.amp.autocast(args...)` is deprecated. Please use `torch.amp.autocast('cpu', args...)` instead.\n",
      "  with torch.enable_grad(), device_autocast_ctx, torch.cpu.amp.autocast(**ctx.cpu_autocast_kwargs):  # type: ignore[attr-defined]\n"
     ]
    },
    {
     "data": {
      "text/plain": [
       "TrainOutput(global_step=387, training_loss=2.0614032326434626, metrics={'train_runtime': 2540.6198, 'train_samples_per_second': 1.222, 'train_steps_per_second': 0.152, 'total_flos': 5202054175887360.0, 'train_loss': 2.0614032326434626, 'epoch': 2.9816425120772947})"
      ]
     },
     "execution_count": 19,
     "metadata": {},
     "output_type": "execute_result"
    }
   ],
   "source": [
    "trainer.train()"
   ]
  },
  {
   "cell_type": "markdown",
   "id": "33690690-b7f5-47c5-ad1f-072f36f71ff2",
   "metadata": {},
   "source": [
    "# 6. Test Model1 with Prompts"
   ]
  },
  {
   "cell_type": "code",
   "execution_count": 8,
   "id": "6b326bbd-64e3-4004-87dc-fcbfbef1d036",
   "metadata": {},
   "outputs": [],
   "source": [
    "adapter_path = \"./philosophy_model/checkpoint-387\"\n",
    "model = PeftModel.from_pretrained(base_model, adapter_path)"
   ]
  },
  {
   "cell_type": "code",
   "execution_count": 9,
   "id": "cfa62d0b-dd5d-441e-8b36-93e5766188ea",
   "metadata": {},
   "outputs": [
    {
     "name": "stdin",
     "output_type": "stream",
     "text": [
      "Ask a philosophical question (or type 'exit'):  How to deal with the fear of death?\n"
     ]
    },
    {
     "name": "stderr",
     "output_type": "stream",
     "text": [
      "The attention mask is not set and cannot be inferred from input because pad token is same as eos token. As a consequence, you may observe unexpected behavior. Please pass your input's `attention_mask` to obtain reliable results.\n"
     ]
    },
    {
     "name": "stdout",
     "output_type": "stream",
     "text": [
      "🧠 The fear of death is natural, but it can be overcome by confronting it with courage and faith. By acknowledging that death is a part of life and that faith in God’s promise of resurrection provides peace, one can overcome this fear. Living fearlessly and trusting in God’s plan is the key to overcoming the fear of death.\n"
     ]
    },
    {
     "name": "stdin",
     "output_type": "stream",
     "text": [
      "Ask a philosophical question (or type 'exit'):  How to deal with the fear of death as a stoic?\n"
     ]
    },
    {
     "name": "stdout",
     "output_type": "stream",
     "text": [
      "🧠 As a stoic, one must confront the fear of death with courage and acceptance. Death is not something to avoid or be ashamed of, but a natural part of life. The stoic understands that death is the end of the soul, not the end of existence. By focusing on living virtuously and accepting mortality, one can live with peace and purpose.\n"
     ]
    },
    {
     "name": "stdin",
     "output_type": "stream",
     "text": [
      "Ask a philosophical question (or type 'exit'):  How to deal with the fear of death as a Hindu?\n"
     ]
    },
    {
     "name": "stdout",
     "output_type": "stream",
     "text": [
      "🧠 Hindus teach that death is not the end, but the return of the soul to its original self. To overcome fear, one must live with the belief that the soul is eternal and will reunite with its divine origin. By practicing detachment, self-control, and love, one can enter the 'peaceful abode' of the soul without fear.\n"
     ]
    },
    {
     "name": "stdin",
     "output_type": "stream",
     "text": [
      "Ask a philosophical question (or type 'exit'):  How to deal with the fear of death according to Nihilism?\n"
     ]
    },
    {
     "name": "stdout",
     "output_type": "stream",
     "text": [
      "🧠 Nihilism encourages confronting the fear of death directly. It suggests that if we fear death, we are not truly alive. Instead of avoiding it, we should examine and accept it. Death is not the end, but a transformation. By facing our mortality, we embrace life's impermanence and find freedom in the absence of fear.\n"
     ]
    },
    {
     "name": "stdin",
     "output_type": "stream",
     "text": [
      "Ask a philosophical question (or type 'exit'):  quit\n"
     ]
    }
   ],
   "source": [
    "while True:\n",
    "    question = input(\"Ask a philosophical question (or type 'exit'): \")\n",
    "    if question.strip().lower() in [\"exit\", \"quit\"]:\n",
    "        break\n",
    "\n",
    "    prompt = f\"### Instruction:\\n{question.strip()}\\n\\n### Response:\\n\"\n",
    "    input_ids = tokenizer(prompt, return_tensors=\"pt\").input_ids.to(model.device)\n",
    "\n",
    "    with torch.no_grad():\n",
    "        output_ids = model.generate(\n",
    "            input_ids,\n",
    "            max_new_tokens=200,\n",
    "            temperature=0.7,\n",
    "            top_p=0.95,\n",
    "            do_sample=True,\n",
    "            eos_token_id=tokenizer.eos_token_id,\n",
    "            pad_token_id=tokenizer.eos_token_id \n",
    "        )\n",
    "\n",
    "    answer = tokenizer.decode(output_ids[0][input_ids.shape[-1]:], skip_special_tokens=True)\n",
    "    print(\"🧠\", answer.strip())\n"
   ]
  },
  {
   "cell_type": "markdown",
   "id": "2485100f-d7a8-4eb7-b2e4-c8e2796d0d83",
   "metadata": {},
   "source": [
    "# 7. Plot Training Loss Curve for Model1"
   ]
  },
  {
   "cell_type": "code",
   "execution_count": 11,
   "id": "0bb29de2-3561-4bdd-a5a0-bc017a1ffe6c",
   "metadata": {},
   "outputs": [],
   "source": [
    "with open(\"./philosophy_model/checkpoint-387/trainer_state.json\") as f:\n",
    "    state = json.load(f)\n",
    "\n",
    "loss_values = [entry[\"loss\"] for entry in state[\"log_history\"] if \"loss\" in entry]\n",
    "steps = [i * 10 for i in range(len(loss_values))]"
   ]
  },
  {
   "cell_type": "code",
   "execution_count": 12,
   "id": "d2727c3f-c0e1-45f7-a9d8-2cbb7738f369",
   "metadata": {},
   "outputs": [
    {
     "data": {
      "image/png": "[encoded data removed]",
      "text/plain": [
       "<Figure size 800x500 with 1 Axes>"
      ]
     },
     "metadata": {},
     "output_type": "display_data"
    }
   ],
   "source": [
    "plt.figure(figsize=(8, 5))\n",
    "plt.plot(steps, loss_values, marker='o')\n",
    "plt.xlabel(\"Training Steps\")\n",
    "plt.ylabel(\"Loss\")\n",
    "plt.title(\"Training Loss Curve\")\n",
    "plt.grid(True)\n",
    "plt.show()"
   ]
  },
  {
   "cell_type": "markdown",
   "id": "e0b1f879-ce9a-43cc-8cc7-0095e2a46a7f",
   "metadata": {},
   "source": [
    "# 8. Train Model with Dataset2 (2129 Entries)"
   ]
  },
  {
   "cell_type": "code",
   "execution_count": 6,
   "id": "2aef4f8b-8e3d-4ac7-bc7e-e1a379377f7a",
   "metadata": {},
   "outputs": [
    {
     "data": {
      "application/vnd.jupyter.widget-view+json": {
       "model_id": "32a4b18c70c5450d972cdda7d8137d64",
       "version_major": 2,
       "version_minor": 0
      },
      "text/plain": [
       "Loading checkpoint shards:   0%|          | 0/2 [00:00<?, ?it/s]"
      ]
     },
     "metadata": {},
     "output_type": "display_data"
    }
   ],
   "source": [
    "model = AutoModelForCausalLM.from_pretrained(\n",
    "    model_name,\n",
    "    quantization_config=bnb_config,\n",
    "    device_map=\"auto\"\n",
    ")\n",
    "tokenizer = AutoTokenizer.from_pretrained(model_name, use_fast=False)\n",
    "tokenizer.pad_token = tokenizer.eos_token\n",
    "model.config.pad_token_id = tokenizer.pad_token_id"
   ]
  },
  {
   "cell_type": "code",
   "execution_count": 13,
   "id": "a11a6d19-c099-4f51-9b73-55c29d2ebc5d",
   "metadata": {},
   "outputs": [
    {
     "name": "stdout",
     "output_type": "stream",
     "text": [
      "trainable params: 5,242,880 || all params: 2,784,926,720 || trainable%: 0.1883\n"
     ]
    }
   ],
   "source": [
    "model = prepare_model_for_kbit_training(model, use_gradient_checkpointing=True)\n",
    "\n",
    "lora_config = LoraConfig(\n",
    "    r=16,\n",
    "    lora_alpha=32,\n",
    "    target_modules=[\"q_proj\", \"v_proj\"],\n",
    "    lora_dropout=0.05,\n",
    "    bias=\"none\",\n",
    "    task_type=\"CAUSAL_LM\"\n",
    ")\n",
    "model = get_peft_model(model, lora_config)\n",
    "model.print_trainable_parameters()"
   ]
  },
  {
   "cell_type": "code",
   "execution_count": 14,
   "id": "caa498fa-52b8-4f93-a1d3-f5f775e6a550",
   "metadata": {},
   "outputs": [],
   "source": [
    "with open(\"data/expanded_data.json\", \"r\") as f:\n",
    "    raw = json.load(f)\n",
    "data = raw[\"data\"]\n",
    "\n",
    "dataset = Dataset.from_list(data)"
   ]
  },
  {
   "cell_type": "code",
   "execution_count": 15,
   "id": "6a454b82-8b6d-4895-b3a0-d64df4bbdc6d",
   "metadata": {},
   "outputs": [
    {
     "data": {
      "text/plain": [
       "2129"
      ]
     },
     "execution_count": 15,
     "metadata": {},
     "output_type": "execute_result"
    }
   ],
   "source": [
    "len(dataset)"
   ]
  },
  {
   "cell_type": "code",
   "execution_count": 16,
   "id": "01b9f0cb-e0cc-498a-b420-d2c648b9f14f",
   "metadata": {},
   "outputs": [],
   "source": [
    "data_collator = InstructionResponseCollator(tokenizer)"
   ]
  },
  {
   "cell_type": "code",
   "execution_count": 10,
   "id": "6ac61eb6-a40e-45b5-bf46-f4619c339e2c",
   "metadata": {},
   "outputs": [],
   "source": [
    "training_args = TrainingArguments(\n",
    "    output_dir=\"./philosophy_model2\",              \n",
    "    per_device_train_batch_size=1,                \n",
    "    gradient_accumulation_steps=8,                \n",
    "    num_train_epochs=3,                           \n",
    "    learning_rate=2e-4,                           \n",
    "    fp16=True,                                    \n",
    "    logging_steps=10,                             \n",
    "    save_steps=200,                               \n",
    "    save_total_limit=2,                           \n",
    "    eval_strategy=\"no\",                     \n",
    "    report_to=\"none\",                              \n",
    "    remove_unused_columns=False\n",
    ")"
   ]
  },
  {
   "cell_type": "code",
   "execution_count": 18,
   "id": "9521e84b-e644-42f7-9774-b2c5e981ca52",
   "metadata": {},
   "outputs": [],
   "source": [
    "trainer = Trainer(\n",
    "    model=model,\n",
    "    train_dataset=dataset,\n",
    "    args=training_args,\n",
    "    data_collator=data_collator\n",
    ")"
   ]
  },
  {
   "cell_type": "code",
   "execution_count": 19,
   "id": "0bca777e-29d6-48f4-ade9-3d2bece20936",
   "metadata": {},
   "outputs": [
    {
     "name": "stderr",
     "output_type": "stream",
     "text": [
      "`use_cache=True` is incompatible with gradient checkpointing. Setting `use_cache=False`.\n",
      "/opt/conda/lib/python3.11/site-packages/torch/_dynamo/eval_frame.py:600: UserWarning: torch.utils.checkpoint: the use_reentrant parameter should be passed explicitly. In version 2.4 we will raise an exception if use_reentrant is not passed. use_reentrant=False is recommended, but if you need to preserve the current default behavior, you can pass use_reentrant=True. Refer to docs for more details on the differences between the two variants.\n",
      "  return fn(*args, **kwargs)\n",
      "/opt/conda/lib/python3.11/site-packages/torch/utils/checkpoint.py:295: FutureWarning: `torch.cpu.amp.autocast(args...)` is deprecated. Please use `torch.amp.autocast('cpu', args...)` instead.\n",
      "  with torch.enable_grad(), device_autocast_ctx, torch.cpu.amp.autocast(**ctx.cpu_autocast_kwargs):  # type: ignore[attr-defined]\n"
     ]
    },
    {
     "data": {
      "text/html": [
       "\n",
       "    <div>\n",
       "      \n",
       "      <progress value='798' max='798' style='width:300px; height:20px; vertical-align: middle;'></progress>\n",
       "      [798/798 1:29:29, Epoch 2/3]\n",
       "    </div>\n",
       "    <table border=\"1\" class=\"dataframe\">\n",
       "  <thead>\n",
       " <tr style=\"text-align: left;\">\n",
       "      <th>Step</th>\n",
       "      <th>Training Loss</th>\n",
       "    </tr>\n",
       "  </thead>\n",
       "  <tbody>\n",
       "    <tr>\n",
       "      <td>10</td>\n",
       "      <td>2.474500</td>\n",
       "    </tr>\n",
       "    <tr>\n",
       "      <td>20</td>\n",
       "      <td>2.204200</td>\n",
       "    </tr>\n",
       "    <tr>\n",
       "      <td>30</td>\n",
       "      <td>2.120100</td>\n",
       "    </tr>\n",
       "    <tr>\n",
       "      <td>40</td>\n",
       "      <td>2.118800</td>\n",
       "    </tr>\n",
       "    <tr>\n",
       "      <td>50</td>\n",
       "      <td>2.033900</td>\n",
       "    </tr>\n",
       "    <tr>\n",
       "      <td>60</td>\n",
       "      <td>2.024200</td>\n",
       "    </tr>\n",
       "    <tr>\n",
       "      <td>70</td>\n",
       "      <td>2.045800</td>\n",
       "    </tr>\n",
       "    <tr>\n",
       "      <td>80</td>\n",
       "      <td>1.972900</td>\n",
       "    </tr>\n",
       "    <tr>\n",
       "      <td>90</td>\n",
       "      <td>2.016800</td>\n",
       "    </tr>\n",
       "    <tr>\n",
       "      <td>100</td>\n",
       "      <td>1.940900</td>\n",
       "    </tr>\n",
       "    <tr>\n",
       "      <td>110</td>\n",
       "      <td>2.050900</td>\n",
       "    </tr>\n",
       "    <tr>\n",
       "      <td>120</td>\n",
       "      <td>1.982300</td>\n",
       "    </tr>\n",
       "    <tr>\n",
       "      <td>130</td>\n",
       "      <td>1.950300</td>\n",
       "    </tr>\n",
       "    <tr>\n",
       "      <td>140</td>\n",
       "      <td>1.980200</td>\n",
       "    </tr>\n",
       "    <tr>\n",
       "      <td>150</td>\n",
       "      <td>1.982000</td>\n",
       "    </tr>\n",
       "    <tr>\n",
       "      <td>160</td>\n",
       "      <td>2.023500</td>\n",
       "    </tr>\n",
       "    <tr>\n",
       "      <td>170</td>\n",
       "      <td>2.030400</td>\n",
       "    </tr>\n",
       "    <tr>\n",
       "      <td>180</td>\n",
       "      <td>1.987600</td>\n",
       "    </tr>\n",
       "    <tr>\n",
       "      <td>190</td>\n",
       "      <td>1.973800</td>\n",
       "    </tr>\n",
       "    <tr>\n",
       "      <td>200</td>\n",
       "      <td>1.916100</td>\n",
       "    </tr>\n",
       "    <tr>\n",
       "      <td>210</td>\n",
       "      <td>1.922000</td>\n",
       "    </tr>\n",
       "    <tr>\n",
       "      <td>220</td>\n",
       "      <td>1.882500</td>\n",
       "    </tr>\n",
       "    <tr>\n",
       "      <td>230</td>\n",
       "      <td>1.929500</td>\n",
       "    </tr>\n",
       "    <tr>\n",
       "      <td>240</td>\n",
       "      <td>1.971000</td>\n",
       "    </tr>\n",
       "    <tr>\n",
       "      <td>250</td>\n",
       "      <td>1.895800</td>\n",
       "    </tr>\n",
       "    <tr>\n",
       "      <td>260</td>\n",
       "      <td>1.945300</td>\n",
       "    </tr>\n",
       "    <tr>\n",
       "      <td>270</td>\n",
       "      <td>1.929500</td>\n",
       "    </tr>\n",
       "    <tr>\n",
       "      <td>280</td>\n",
       "      <td>1.838000</td>\n",
       "    </tr>\n",
       "    <tr>\n",
       "      <td>290</td>\n",
       "      <td>1.876400</td>\n",
       "    </tr>\n",
       "    <tr>\n",
       "      <td>300</td>\n",
       "      <td>1.835100</td>\n",
       "    </tr>\n",
       "    <tr>\n",
       "      <td>310</td>\n",
       "      <td>1.821300</td>\n",
       "    </tr>\n",
       "    <tr>\n",
       "      <td>320</td>\n",
       "      <td>1.811800</td>\n",
       "    </tr>\n",
       "    <tr>\n",
       "      <td>330</td>\n",
       "      <td>1.867100</td>\n",
       "    </tr>\n",
       "    <tr>\n",
       "      <td>340</td>\n",
       "      <td>1.844400</td>\n",
       "    </tr>\n",
       "    <tr>\n",
       "      <td>350</td>\n",
       "      <td>1.862200</td>\n",
       "    </tr>\n",
       "    <tr>\n",
       "      <td>360</td>\n",
       "      <td>1.766300</td>\n",
       "    </tr>\n",
       "    <tr>\n",
       "      <td>370</td>\n",
       "      <td>1.857600</td>\n",
       "    </tr>\n",
       "    <tr>\n",
       "      <td>380</td>\n",
       "      <td>1.837000</td>\n",
       "    </tr>\n",
       "    <tr>\n",
       "      <td>390</td>\n",
       "      <td>1.802800</td>\n",
       "    </tr>\n",
       "    <tr>\n",
       "      <td>400</td>\n",
       "      <td>1.776700</td>\n",
       "    </tr>\n",
       "    <tr>\n",
       "      <td>410</td>\n",
       "      <td>1.903000</td>\n",
       "    </tr>\n",
       "    <tr>\n",
       "      <td>420</td>\n",
       "      <td>1.804400</td>\n",
       "    </tr>\n",
       "    <tr>\n",
       "      <td>430</td>\n",
       "      <td>1.872300</td>\n",
       "    </tr>\n",
       "    <tr>\n",
       "      <td>440</td>\n",
       "      <td>1.766700</td>\n",
       "    </tr>\n",
       "    <tr>\n",
       "      <td>450</td>\n",
       "      <td>1.790900</td>\n",
       "    </tr>\n",
       "    <tr>\n",
       "      <td>460</td>\n",
       "      <td>1.761700</td>\n",
       "    </tr>\n",
       "    <tr>\n",
       "      <td>470</td>\n",
       "      <td>1.788100</td>\n",
       "    </tr>\n",
       "    <tr>\n",
       "      <td>480</td>\n",
       "      <td>1.800200</td>\n",
       "    </tr>\n",
       "    <tr>\n",
       "      <td>490</td>\n",
       "      <td>1.794300</td>\n",
       "    </tr>\n",
       "    <tr>\n",
       "      <td>500</td>\n",
       "      <td>1.810200</td>\n",
       "    </tr>\n",
       "    <tr>\n",
       "      <td>510</td>\n",
       "      <td>1.775900</td>\n",
       "    </tr>\n",
       "    <tr>\n",
       "      <td>520</td>\n",
       "      <td>1.775300</td>\n",
       "    </tr>\n",
       "    <tr>\n",
       "      <td>530</td>\n",
       "      <td>1.765500</td>\n",
       "    </tr>\n",
       "    <tr>\n",
       "      <td>540</td>\n",
       "      <td>1.788700</td>\n",
       "    </tr>\n",
       "    <tr>\n",
       "      <td>550</td>\n",
       "      <td>1.658500</td>\n",
       "    </tr>\n",
       "    <tr>\n",
       "      <td>560</td>\n",
       "      <td>1.719200</td>\n",
       "    </tr>\n",
       "    <tr>\n",
       "      <td>570</td>\n",
       "      <td>1.759500</td>\n",
       "    </tr>\n",
       "    <tr>\n",
       "      <td>580</td>\n",
       "      <td>1.748400</td>\n",
       "    </tr>\n",
       "    <tr>\n",
       "      <td>590</td>\n",
       "      <td>1.714900</td>\n",
       "    </tr>\n",
       "    <tr>\n",
       "      <td>600</td>\n",
       "      <td>1.747800</td>\n",
       "    </tr>\n",
       "    <tr>\n",
       "      <td>610</td>\n",
       "      <td>1.712100</td>\n",
       "    </tr>\n",
       "    <tr>\n",
       "      <td>620</td>\n",
       "      <td>1.694200</td>\n",
       "    </tr>\n",
       "    <tr>\n",
       "      <td>630</td>\n",
       "      <td>1.707200</td>\n",
       "    </tr>\n",
       "    <tr>\n",
       "      <td>640</td>\n",
       "      <td>1.675100</td>\n",
       "    </tr>\n",
       "    <tr>\n",
       "      <td>650</td>\n",
       "      <td>1.670600</td>\n",
       "    </tr>\n",
       "    <tr>\n",
       "      <td>660</td>\n",
       "      <td>1.712600</td>\n",
       "    </tr>\n",
       "    <tr>\n",
       "      <td>670</td>\n",
       "      <td>1.681400</td>\n",
       "    </tr>\n",
       "    <tr>\n",
       "      <td>680</td>\n",
       "      <td>1.721600</td>\n",
       "    </tr>\n",
       "    <tr>\n",
       "      <td>690</td>\n",
       "      <td>1.736900</td>\n",
       "    </tr>\n",
       "    <tr>\n",
       "      <td>700</td>\n",
       "      <td>1.687800</td>\n",
       "    </tr>\n",
       "    <tr>\n",
       "      <td>710</td>\n",
       "      <td>1.727000</td>\n",
       "    </tr>\n",
       "    <tr>\n",
       "      <td>720</td>\n",
       "      <td>1.651200</td>\n",
       "    </tr>\n",
       "    <tr>\n",
       "      <td>730</td>\n",
       "      <td>1.704500</td>\n",
       "    </tr>\n",
       "    <tr>\n",
       "      <td>740</td>\n",
       "      <td>1.661500</td>\n",
       "    </tr>\n",
       "    <tr>\n",
       "      <td>750</td>\n",
       "      <td>1.707400</td>\n",
       "    </tr>\n",
       "    <tr>\n",
       "      <td>760</td>\n",
       "      <td>1.706800</td>\n",
       "    </tr>\n",
       "    <tr>\n",
       "      <td>770</td>\n",
       "      <td>1.676400</td>\n",
       "    </tr>\n",
       "    <tr>\n",
       "      <td>780</td>\n",
       "      <td>1.657900</td>\n",
       "    </tr>\n",
       "    <tr>\n",
       "      <td>790</td>\n",
       "      <td>1.713700</td>\n",
       "    </tr>\n",
       "  </tbody>\n",
       "</table><p>"
      ],
      "text/plain": [
       "<IPython.core.display.HTML object>"
      ]
     },
     "metadata": {},
     "output_type": "display_data"
    },
    {
     "name": "stderr",
     "output_type": "stream",
     "text": [
      "/opt/conda/lib/python3.11/site-packages/torch/_dynamo/eval_frame.py:600: UserWarning: torch.utils.checkpoint: the use_reentrant parameter should be passed explicitly. In version 2.4 we will raise an exception if use_reentrant is not passed. use_reentrant=False is recommended, but if you need to preserve the current default behavior, you can pass use_reentrant=True. Refer to docs for more details on the differences between the two variants.\n",
      "  return fn(*args, **kwargs)\n",
      "/opt/conda/lib/python3.11/site-packages/torch/utils/checkpoint.py:295: FutureWarning: `torch.cpu.amp.autocast(args...)` is deprecated. Please use `torch.amp.autocast('cpu', args...)` instead.\n",
      "  with torch.enable_grad(), device_autocast_ctx, torch.cpu.amp.autocast(**ctx.cpu_autocast_kwargs):  # type: ignore[attr-defined]\n",
      "/opt/conda/lib/python3.11/site-packages/torch/_dynamo/eval_frame.py:600: UserWarning: torch.utils.checkpoint: the use_reentrant parameter should be passed explicitly. In version 2.4 we will raise an exception if use_reentrant is not passed. use_reentrant=False is recommended, but if you need to preserve the current default behavior, you can pass use_reentrant=True. Refer to docs for more details on the differences between the two variants.\n",
      "  return fn(*args, **kwargs)\n",
      "/opt/conda/lib/python3.11/site-packages/torch/utils/checkpoint.py:295: FutureWarning: `torch.cpu.amp.autocast(args...)` is deprecated. Please use `torch.amp.autocast('cpu', args...)` instead.\n",
      "  with torch.enable_grad(), device_autocast_ctx, torch.cpu.amp.autocast(**ctx.cpu_autocast_kwargs):  # type: ignore[attr-defined]\n",
      "/opt/conda/lib/python3.11/site-packages/torch/_dynamo/eval_frame.py:600: UserWarning: torch.utils.checkpoint: the use_reentrant parameter should be passed explicitly. In version 2.4 we will raise an exception if use_reentrant is not passed. use_reentrant=False is recommended, but if you need to preserve the current default behavior, you can pass use_reentrant=True. Refer to docs for more details on the differences between the two variants.\n",
      "  return fn(*args, **kwargs)\n",
      "/opt/conda/lib/python3.11/site-packages/torch/utils/checkpoint.py:295: FutureWarning: `torch.cpu.amp.autocast(args...)` is deprecated. Please use `torch.amp.autocast('cpu', args...)` instead.\n",
      "  with torch.enable_grad(), device_autocast_ctx, torch.cpu.amp.autocast(**ctx.cpu_autocast_kwargs):  # type: ignore[attr-defined]\n"
     ]
    },
    {
     "data": {
      "text/plain": [
       "TrainOutput(global_step=798, training_loss=1.844557287698999, metrics={'train_runtime': 5376.4278, 'train_samples_per_second': 1.188, 'train_steps_per_second': 0.148, 'total_flos': 1.145027380552704e+16, 'train_loss': 1.844557287698999, 'epoch': 2.992015030530766})"
      ]
     },
     "execution_count": 19,
     "metadata": {},
     "output_type": "execute_result"
    }
   ],
   "source": [
    "trainer.train()"
   ]
  },
  {
   "cell_type": "markdown",
   "id": "2f68b941-549c-4c5e-a7db-c42ca6f8a466",
   "metadata": {},
   "source": [
    "# 9. Test Model2 with Prompts"
   ]
  },
  {
   "cell_type": "code",
   "execution_count": 8,
   "id": "4690337b-daa0-44ee-affb-31e78f5015a6",
   "metadata": {},
   "outputs": [],
   "source": [
    "adapter_path2 = \"./philosophy_model2/checkpoint-798\"\n",
    "model = PeftModel.from_pretrained(base_model, adapter_path2)"
   ]
  },
  {
   "cell_type": "code",
   "execution_count": 20,
   "id": "371c4f42-56a9-48c5-9511-d26e98ca738b",
   "metadata": {},
   "outputs": [
    {
     "name": "stdin",
     "output_type": "stream",
     "text": [
      "Ask a philosophical question (or type 'exit'):  Create a sample dialogue between two people discussing about suffering and happiness.\n"
     ]
    },
    {
     "name": "stdout",
     "output_type": "stream",
     "text": [
      "🧠 Person A: 'Life is full of suffering, isn’t it? How can happiness exist in such a condition?'\n",
      "Person B: 'Happiness isn’t about the absence of suffering, but the presence of meaning. Just as a tree can bear fruit despite the storms, we can find joy in enduring pain if it leads to something greater.'\n"
     ]
    },
    {
     "name": "stdin",
     "output_type": "stream",
     "text": [
      "Ask a philosophical question (or type 'exit'):  How to deal with grief?\n"
     ]
    },
    {
     "name": "stdout",
     "output_type": "stream",
     "text": [
      "🧠 To deal with grief, one must acknowledge and process the pain through reflection and acceptance. This is emphasized in many parts of the tradition. Only when the person understands and mourns the loss fully can they find peace.\n"
     ]
    },
    {
     "name": "stdin",
     "output_type": "stream",
     "text": [
      "Ask a philosophical question (or type 'exit'):  How to live my life according to Taoism?\n"
     ]
    },
    {
     "name": "stdout",
     "output_type": "stream",
     "text": [
      "🧠 To live according to Taoism, one must first recognize the Tao and accept its ways. This involves shedding attachments, behaving with humility, and aligning oneself with the natural order. The Tao is like a gentle breeze that does not need strength to move; similarly, true wisdom comes from simplicity and non-interference. Only then can one follow the Tao without resistance, and harmony with nature and others will naturally follow. This is emphasized in many parts of the tradition.\n"
     ]
    },
    {
     "name": "stdin",
     "output_type": "stream",
     "text": [
      "Ask a philosophical question (or type 'exit'):  Why do people believe in God?\n"
     ]
    },
    {
     "name": "stdout",
     "output_type": "stream",
     "text": [
      "🧠 People believe in God because of the fulfillment of their deepest longing—to be loved and understood. God, as the love of the Creator, becomes their source of comfort, joy, and purpose. This longing is too great to be explained by reason alone, and therefore, it is believed to be divine in nature. This is emphasized in many parts of the tradition.\n"
     ]
    },
    {
     "name": "stdin",
     "output_type": "stream",
     "text": [
      "Ask a philosophical question (or type 'exit'):  Why are some people atheists while some believe in religions?\n"
     ]
    },
    {
     "name": "stdout",
     "output_type": "stream",
     "text": [
      "🧠 To put it simply, this is addressed in many parts of the tradition. Atheism is the absence of belief in any supernatural being, while belief in religions is based on faith in myths, stories, or traditions. Some people lack the faith to believe in gods, while others follow these stories out of habit or emotional attachment.\n"
     ]
    },
    {
     "name": "stdin",
     "output_type": "stream",
     "text": [
      "Ask a philosophical question (or type 'exit'):  How to deal with ambition as a stoic?\n"
     ]
    },
    {
     "name": "stdout",
     "output_type": "stream",
     "text": [
      "🧠 Ambition is a natural human trait, but stoics believe it should be tempered with self-discipline and a focus on virtue. A stoic should cultivate ambition in the service of the greater good, not for personal gain. It should be directed toward excellence, service, and living in accordance with reason and virtue. When ambition becomes a source of pride or selfishness, it is no longer a good quality—it is a vice.\n"
     ]
    },
    {
     "name": "stdin",
     "output_type": "stream",
     "text": [
      "Ask a philosophical question (or type 'exit'):  quit\n"
     ]
    }
   ],
   "source": [
    "while True:\n",
    "    question = input(\"Ask a philosophical question (or type 'exit'): \")\n",
    "    if question.strip().lower() in [\"exit\", \"quit\"]:\n",
    "        break\n",
    "\n",
    "    prompt = f\"### Instruction:\\n{question.strip()}\\n\\n### Response:\\n\"\n",
    "    input_ids = tokenizer(prompt, return_tensors=\"pt\").input_ids.to(model.device)\n",
    "\n",
    "    with torch.no_grad():\n",
    "        output_ids = model.generate(\n",
    "            input_ids,\n",
    "            max_new_tokens=1000,\n",
    "            temperature=0.7,\n",
    "            top_p=0.95,\n",
    "            do_sample=True,\n",
    "            eos_token_id=tokenizer.eos_token_id,\n",
    "            pad_token_id=tokenizer.eos_token_id \n",
    "        )\n",
    "\n",
    "    answer = tokenizer.decode(output_ids[0][input_ids.shape[-1]:], skip_special_tokens=True)\n",
    "    print(\"🧠\", answer.strip())"
   ]
  },
  {
   "cell_type": "markdown",
   "id": "7b8b7ece-b626-42a2-9385-29b82b50a1b4",
   "metadata": {},
   "source": [
    "# 10. Plot Training Loss Curve for Model 2"
   ]
  },
  {
   "cell_type": "code",
   "execution_count": 11,
   "id": "e792d0ea-822d-4f3c-ac2f-5cacd71af6dd",
   "metadata": {},
   "outputs": [],
   "source": [
    "with open(\"./philosophy_model2/checkpoint-798/trainer_state.json\") as f:\n",
    "    state = json.load(f)\n",
    "\n",
    "loss_values = [entry[\"loss\"] for entry in state[\"log_history\"] if \"loss\" in entry]\n",
    "steps = [i * 10 for i in range(len(loss_values))]"
   ]
  },
  {
   "cell_type": "code",
   "execution_count": 12,
   "id": "ffbbc754-ad90-4716-9fa3-35b57cf7d7b4",
   "metadata": {},
   "outputs": [
    {
     "data": {
      "image/png": "[encoded data removed]",
      "text/plain": [
       "<Figure size 800x500 with 1 Axes>"
      ]
     },
     "metadata": {},
     "output_type": "display_data"
    }
   ],
   "source": [
    "plt.figure(figsize=(8, 5))\n",
    "plt.plot(steps, loss_values, marker='o')\n",
    "plt.xlabel(\"Training Steps\")\n",
    "plt.ylabel(\"Loss\")\n",
    "plt.title(\"Training Loss Curve\")\n",
    "plt.grid(True)\n",
    "plt.show()"
   ]
  },
  {
   "cell_type": "markdown",
   "id": "2721a1cb-54bb-4893-bc1b-9bc300316cec",
   "metadata": {},
   "source": [
    "# 11. Evaluation"
   ]
  },
  {
   "cell_type": "code",
   "execution_count": 11,
   "id": "28a3dcd8-5536-4a93-9e64-ccf8d6f2cac6",
   "metadata": {},
   "outputs": [],
   "source": [
    "evaluation_questions = [\n",
    "    \"What is the meaning of suffering in Buddhism?\",\n",
    "    \"How does Stoicism define freedom?\",\n",
    "    \"What would an Absurdist say about the search for truth?\",\n",
    "    \"How can Taoism guide someone dealing with grief?\",\n",
    "    \"What does nihilism say about morality?\",\n",
    "    \"According to Stoicism, how should we face death?\",\n",
    "    \"Why do some philosophers reject objective reality?\",\n",
    "    \"What is the Taoist approach to ambition and success?\",\n",
    "    \"How does rationalism view emotional decision making?\",\n",
    "    \"What is the significance of the Bodhisattva ideal in Mahayana Buddhism?\"\n",
    "]"
   ]
  },
  {
   "cell_type": "code",
   "execution_count": 12,
   "id": "764c2dc2-f8fa-4022-8546-6cbd16f8636c",
   "metadata": {},
   "outputs": [
    {
     "name": "stdout",
     "output_type": "stream",
     "text": [
      "\n",
      "❓ What is the meaning of suffering in Buddhism?\n",
      "🧠 To put it simply, suffering in Buddhism is not merely physical pain but also emotional and mental anguish caused by attachment, ignorance, and craving. It arises from clinging to the self and the world.\n",
      "\n",
      "❓ How does Stoicism define freedom?\n",
      "🧠 Stoicism defines freedom as the ability to live in accordance with reason, virtue, and nature without being controlled by external circumstances. A truly free person is not at the mercy of fate, fortune, or the actions of others—they are guided by their own moral compass and rational judgment. This is emphasized in many parts of the tradition.\n",
      "\n",
      "❓ What would an Absurdist say about the search for truth?\n",
      "🧠 To put it simply, absurdism would argue that the search for truth is futile—it's an impossible task because truth itself is impossible. The absurdist sees truth as a contradiction—a desire to believe in something that can’t exist. Since belief and truth are inseparable, trying to understand truth leads to paradoxes and despair. The absurdity lies in the contradiction between the desire to believe and the impossibility of belief itself.\n",
      "\n",
      "❓ How can Taoism guide someone dealing with grief?\n",
      "🧠 To put it simply, taoism advises patience and surrender when facing grief. Like a tree that endures storms by bending, the wise person learns to endure suffering by yielding to fate. The Tao teaches that sorrow is part of life and resisting it only leads to more pain. True healing comes from accepting one’s fate and living in harmony with the natural flow of life.\n",
      "\n",
      "❓ What does nihilism say about morality?\n",
      "🧠 Nihilism argues that morality, as a system of rules and beliefs, is not based on universal truths but on human convenience and social organization. It is a cultural construct that changes over time and often reflects the interests of the dominant group. Morality is not a divine truth, but a human invention that serves to regulate and control human behavior.\n",
      "\n",
      "❓ According to Stoicism, how should we face death?\n",
      "🧠 To put it simply, stoicism teaches that we should not fear death—it is simply the return to nature. We should not cling to life or be afraid of dying. Instead, we should prepare for death with reason and dignity, focusing on what we can control and leaving the rest to the will of the divine.\n",
      "\n",
      "❓ Why do some philosophers reject objective reality?\n",
      "🧠 To put it simply, to reject objective reality means to reject the notion that there is an external world independent of human perception. According to many philosophers, this idea stems from a misunderstanding of how the mind works. The mind perceives the external world through its internal states, and these internal states are created by the mind itself. Therefore, there is no external, objective reality that exists apart from the mind. This perspective emphasizes how reality is constructed by the mind and not something to be discovered or understood.\n",
      "\n",
      "❓ What is the Taoist approach to ambition and success?\n",
      "🧠 To put it simply, taoism discourages excessive ambition or pride in success, emphasizing instead a humble and harmonious relationship with life. True success is measured not by wealth or fame, but by inner peace, contentment, and a deep connection to the Tao.\n",
      "\n",
      "❓ How does rationalism view emotional decision making?\n",
      "🧠 Rationalism argues that emotions are not the basis of decision making but rather a reaction to a decision already made. The mind chooses the action and then feels the emotion as a consequence. This means that emotional responses do not precede decisions, but follow them.\n",
      "\n",
      "❓ What is the significance of the Bodhisattva ideal in Mahayana Buddhism?\n",
      "🧠 The Bodhisattva ideal represents a transformative aspiration in Mahayana Buddhism. A Bodhisattva is a compassionate being who attains enlightenment not for personal liberation but to help others attain it as well. Their commitment to relieving suffering and guiding others toward liberation embodies the central ethic of the tradition.\n"
     ]
    }
   ],
   "source": [
    "results = []\n",
    "\n",
    "for question in evaluation_questions:\n",
    "    prompt = f\"### Instruction:\\n{question.strip()}\\n\\n### Response:\\n\"\n",
    "    input_ids = tokenizer(prompt, return_tensors=\"pt\").input_ids.to(model.device)\n",
    "\n",
    "    with torch.no_grad():\n",
    "        output_ids = model.generate(\n",
    "            input_ids,\n",
    "            max_new_tokens=200,\n",
    "            temperature=0.7,\n",
    "            top_p=0.95,\n",
    "            do_sample=True,\n",
    "            eos_token_id=tokenizer.eos_token_id,\n",
    "            pad_token_id=tokenizer.pad_token_id,\n",
    "        )\n",
    "\n",
    "    answer = tokenizer.decode(output_ids[0][input_ids.shape[-1]:], skip_special_tokens=True)\n",
    "    results.append((question, answer.strip()))\n",
    "\n",
    "# Print results\n",
    "for q, a in results:\n",
    "    print(f\"\\n❓ {q}\\n🧠 {a}\")"
   ]
  },
  {
   "cell_type": "code",
   "execution_count": 13,
   "id": "aae01faf-fac4-417d-8d39-2d1a0627ed7b",
   "metadata": {},
   "outputs": [],
   "source": [
    "with open(\"model_eval_results.json\", \"w\") as f:\n",
    "    json.dump([{\"question\": q, \"answer\": a} for q, a in results], f, indent=2)"
   ]
  },
  {
   "cell_type": "markdown",
   "id": "0a7d0d27-fe6d-420b-8ffd-2748ca83b92a",
   "metadata": {},
   "source": [
    "## Evaluating the answers according to coherence, correctness and alignment with the philosophy"
   ]
  },
  {
   "cell_type": "markdown",
   "id": "cb1672ee-447a-4a68-a511-1feeab03a000",
   "metadata": {},
   "source": [
    "| Question (Topic)                          | Correctness (1–10) | Coherence (1–10) | Alignment (1–10) | Overall Score |\n",
    "| ----------------------------------------- | ------------------ | ---------------- | ---------------- | ------------- |\n",
    "| **1. Meaning of suffering in Buddhism**   | 10                 | 9                | 10               | 9.7           |\n",
    "| **2. Stoic definition of freedom**        | 10                 | 10               | 10               | 10.0          |\n",
    "| **3. Absurdist view on search for truth** | 4                  | 5                | 4                | 4.3           |\n",
    "| **4. Taoism on dealing with grief**       | 9                  | 10               | 10               | 9.7           |\n",
    "| **5. Nihilism on morality**               | 8                  | 9                | 9                | 8.7           |\n",
    "| **6. Stoic approach to facing death**     | 10                 | 10               | 10               | 10.0          |\n",
    "| **7. Rejecting objective reality**        | 8                  | 8                | 8                | 8.0           |\n",
    "| **8. Taoist view of ambition & success**  | 10                 | 10               | 10               | 10.0          |\n",
    "| **9. Rationalism vs emotional decisions** | 5                  | 7                | 5                | 5.7           |\n",
    "| **10. Bodhisattva ideal in Mahayana**     | 10                 | 10               | 10               | 10.0          |\n",
    "| **Average (across all answers)**          | **8.4**            | **8.8**          | **8.6**          | **8.6**       |\n"
   ]
  },
  {
   "cell_type": "markdown",
   "id": "5724b280-41e6-485b-93a4-da226484f4ff",
   "metadata": {},
   "source": [
    "## Comparing Base Model VS Fine-Tuned Model Responses"
   ]
  },
  {
   "cell_type": "code",
   "execution_count": 22,
   "id": "06d02bd7-4816-476e-80e0-c32983cfdcbe",
   "metadata": {},
   "outputs": [],
   "source": [
    "comparison_results = []\n",
    "\n",
    "for question in evaluation_questions:\n",
    "    prompt = f\"### Instruction:\\n{question.strip()}\\n\\n### Response:\\n\"\n",
    "    input_ids = tokenizer(prompt, return_tensors=\"pt\").input_ids\n",
    "\n",
    "    # Fine-tuned model response\n",
    "    with torch.no_grad():\n",
    "        output_ids = model.generate(\n",
    "            input_ids.to(model.device),\n",
    "            max_new_tokens=200,\n",
    "            temperature=0.7,\n",
    "            top_p=0.95,\n",
    "            do_sample=True,\n",
    "            eos_token_id=tokenizer.eos_token_id,\n",
    "            pad_token_id=tokenizer.pad_token_id\n",
    "        )\n",
    "    fine_tuned_answer = tokenizer.decode(output_ids[0][input_ids.shape[-1]:], skip_special_tokens=True)\n",
    "\n",
    "    # Base model response\n",
    "    with torch.no_grad():\n",
    "        base_output_ids = base_model.generate(\n",
    "            input_ids.to(base_model.device),\n",
    "            max_new_tokens=200,\n",
    "            temperature=0.7,\n",
    "            top_p=0.95,\n",
    "            do_sample=True,\n",
    "            eos_token_id=tokenizer.eos_token_id,\n",
    "            pad_token_id=tokenizer.pad_token_id\n",
    "        )\n",
    "    base_answer = tokenizer.decode(base_output_ids[0][input_ids.shape[-1]:], skip_special_tokens=True)\n",
    "\n",
    "    comparison_results.append({\n",
    "        \"question\": question,\n",
    "        \"fine_tuned_answer\": fine_tuned_answer.strip(),\n",
    "        \"base_answer\": base_answer.strip()\n",
    "    })"
   ]
  },
  {
   "cell_type": "code",
   "execution_count": 23,
   "id": "11361ab8-e3b6-4531-986a-259b684b98fa",
   "metadata": {},
   "outputs": [],
   "source": [
    "with open(\"side_by_side_eval.json\", \"w\") as f:\n",
    "    json.dump(comparison_results, f, indent=2)"
   ]
  },
  {
   "cell_type": "code",
   "execution_count": 24,
   "id": "deb278ad-2e39-4a58-b4e7-274048a14ef2",
   "metadata": {},
   "outputs": [],
   "source": [
    "with open(\"side_by_side_eval.json\", \"r\") as f:\n",
    "    eval_compare_data = json.load(f)"
   ]
  },
  {
   "cell_type": "code",
   "execution_count": 25,
   "id": "7b3e0a3d-8dab-4d1a-ac9e-e83ed73eed41",
   "metadata": {},
   "outputs": [],
   "source": [
    "eval_compare_df = pd.DataFrame(eval_compare_data)"
   ]
  },
  {
   "cell_type": "code",
   "execution_count": 26,
   "id": "90455c49-e941-420e-beea-a30859cd9bfe",
   "metadata": {},
   "outputs": [
    {
     "data": {
      "text/html": [
       "\n",
       "<div style=\"overflow-x:auto; max-width:100%;\">\n",
       "    <table border=\"1\" class=\"dataframe\">\n",
       "  <thead>\n",
       "    <tr style=\"text-align: right;\">\n",
       "      <th>question</th>\n",
       "      <th>fine_tuned_answer</th>\n",
       "      <th>base_answer</th>\n",
       "    </tr>\n",
       "  </thead>\n",
       "  <tbody>\n",
       "    <tr>\n",
       "      <td>What is the meaning of suffering in Buddhism?</td>\n",
       "      <td>In Buddhism, suffering arises from attachment and ignorance. When the mind is fully absorbed by desire and duality (between self and others), it becomes vulnerable to pain and loss. True freedom comes from recognizing the impermanence of all things and letting go of attachment.</td>\n",
       "      <td>To put it simply, suffering, or dukkha, in Buddhism refers to the unsatisfactory and continuous nature of human existence. It arises from craving, attachment, and ignorance. Suffering is not caused by external events but by one's own mental states. Only by letting go of craving, practicing mindfulness, and achieving Nirvana can one end the cycle of suffering.</td>\n",
       "    </tr>\n",
       "    <tr>\n",
       "      <td>How does Stoicism define freedom?</td>\n",
       "      <td>Stoicism defines freedom as being able to choose what is right or wrong according to reason, not being bound by external authority or social norms. It comes from the inner power of virtue and rationality, not from external recognition or obedience.</td>\n",
       "      <td>To put it simply, stoicism defines freedom as the ability to act according to reason, rather than being determined by external forces. A truly free person is not bound by fear, anger, or desire, but is guided by a calm and rational soul.</td>\n",
       "    </tr>\n",
       "    <tr>\n",
       "      <td>What would an Absurdist say about the search for truth?</td>\n",
       "      <td>To put it simply, absurdism views the search for truth as a futile and even dangerous endeavor. It argues that truth often contradicts itself, that what is called 'truth' is often just a projection of the self, and that knowledge only reinforces our sense of identity. Rather than helping us understand the self or the world, truth may actually hinder our understanding by becoming part of it. This nihilistic stance encourages a kind of skepticism toward truth as a whole.</td>\n",
       "      <td>To put it simply, an absurdist would argue that the search for truth is futile because truth itself is absurd. Truth is not something we discover but something we make. We construct it through language, logic, and belief, and because of this, we can never truly know it as an objective reality. Truth is always a human creation, a reflection of our desire to understand the world, not a stable, independent truth.</td>\n",
       "    </tr>\n",
       "    <tr>\n",
       "      <td>How can Taoism guide someone dealing with grief?</td>\n",
       "      <td>Taoism advises that one should not force grief, as it must follow its own natural course. Instead, one should respect and be patient, allowing time for healing. Trying to rush or manipulate the process leads to suffering. True peace comes from accepting the impermanence of all things. This is emphasized in many parts of the tradition.</td>\n",
       "      <td>Taoism encourages the person to be patient and gentle with themselves and others while grieving. It reminds them that suffering is temporary and that true peace comes from aligning with the natural flow of life. By not forcing closure or rushing the process, the sage remains open to the healing power of the Tao. This is emphasized in many parts of the tradition.</td>\n",
       "    </tr>\n",
       "    <tr>\n",
       "      <td>What does nihilism say about morality?</td>\n",
       "      <td>Nihilism sees morality as a social construct that imposes rules on human behavior. These rules vary across cultures and time periods. Moral judgments are not universal truths but opinions about what is right or wrong. They reflect cultural values and power dynamics, often serving to maintain social order. Nihilism questions whether there is any objective, universal standard for morality. This is emphasized in many parts of the tradition.</td>\n",
       "      <td>Nihilism criticizes morality as a tool of power and manipulation rather than a reflection of truth or goodness. It describes morality as a system invented by strong and cunning individuals to control others, often through fear and deceit. According to nihilism, morality is not universal, but a human invention designed to maintain social order and dominance, often at the expense of truth and individuality.</td>\n",
       "    </tr>\n",
       "    <tr>\n",
       "      <td>According to Stoicism, how should we face death?</td>\n",
       "      <td>To put it simply, stoicism teaches that death should not be feared but embraced as a natural part of life. Rather than mourning, we should prepare ourselves by living virtuously, reflecting on our accomplishments, and finding peace in knowing that we have lived well.</td>\n",
       "      <td>To put it simply, stoicism teaches that death should be embraced as a natural part of life, not feared or avoided. The wise person should be calm and composed in the face of death, knowing that the soul lives on after the body dies. Fear of death is often a result of the mind’s attachment to the body, which is an illusion. The wise person, by detaching from the body and focusing on what is truly important, can live a life free from unnecessary fear and anxiety.</td>\n",
       "    </tr>\n",
       "    <tr>\n",
       "      <td>Why do some philosophers reject objective reality?</td>\n",
       "      <td>To put it simply, some philosophers reject objective reality as a social construct because they see it as a tool of power that justifies dominant ideas and hierarchies. They argue that what we call'real' is simply what fits into dominant modes of thought and that reality is always interpreted through cultural frameworks. This rejection challenges the idea that science or knowledge is neutral and universal.</td>\n",
       "      <td>To put it simply, some philosophers reject objective reality, either through skepticism or metaphysical doubt, because they argue that all knowledge is based on interpretation of sensory data. What we perceive as real may simply be an illusion or a reconstruction of our experiences. This view challenges the idea that reality is fixed and independent of our minds.</td>\n",
       "    </tr>\n",
       "    <tr>\n",
       "      <td>What is the Taoist approach to ambition and success?</td>\n",
       "      <td>To put it simply, Taoism discourages excessive ambition and success. The Tao views them as potential causes of harm, such as pride, envy, and disease. Instead, Taoism emphasizes humility, contentment, and living in harmony with the natural flow of things. The sage, according to this tradition, is one who does not seek fame or power but quietly and skillfully navigates life, like a silent river flowing through the mountains.</td>\n",
       "      <td>To put it simply, the Taoist view on ambition and success is that they are often illusions. True contentment comes from living simply, without craving fame or wealth. The Tao teaches that what is valuable is not what is displayed, but what is quiet and hidden. A sage, for instance, is not admired for his achievements but respected for his humility and stillness. Taoism encourages people to value simplicity over status and to avoid the distraction of external validation.</td>\n",
       "    </tr>\n",
       "    <tr>\n",
       "      <td>How does rationalism view emotional decision making?</td>\n",
       "      <td>Rationalism views emotional decision making as a distortion of truth. It argues that emotions arise from a false belief that something is true. In reality, what we feel is not a fact, but a feeling about a mistaken belief. The rational person rejects this false belief and instead seeks truth through reason, rather than relying on emotional reactions. This is emphasized in many parts of the tradition.</td>\n",
       "      <td>Rationalism views emotional decision making as a form of belief—specifically, a belief in the rightness of an action based on emotions. It holds that emotions are not facts in themselves, but are the result of reasoning about the effects of actions. When we feel a particular emotion in response to a certain belief, we believe that belief to be right. Therefore, emotions are not independent truths, but expressions of our rational judgments about what is good or bad.</td>\n",
       "    </tr>\n",
       "    <tr>\n",
       "      <td>What is the significance of the Bodhisattva ideal in Mahayana Buddhism?</td>\n",
       "      <td>The Bodhisattva ideal is central to Mahayana Buddhism because it represents the highest aspiration for spiritual attainment—not merely personal liberation but the desire to alleviate all suffering. A Bodhisattva embodies compassion, wisdom, and selflessness, embodying the ideal of a truly enlightened being who remains committed to guiding others toward awakening.</td>\n",
       "      <td>The Bodhisattva ideal symbolizes a committed path toward ending suffering for all beings. A bodhisattva is someone who has attained enlightenment but remains in the world to assist others in their spiritual journey. This practice aligns the individual's liberation with the liberation of all, embodying compassion and selflessness at the highest level of Buddhist ethics. This is emphasized in many parts of the tradition.</td>\n",
       "    </tr>\n",
       "  </tbody>\n",
       "</table>\n",
       "</div>\n"
      ],
      "text/plain": [
       "<IPython.core.display.HTML object>"
      ]
     },
     "metadata": {},
     "output_type": "display_data"
    }
   ],
   "source": [
    "display(HTML(\"\"\"\n",
    "<div style=\"overflow-x:auto; max-width:100%;\">\n",
    "    {table}\n",
    "</div>\n",
    "\"\"\".format(table=eval_compare_df.to_html(escape=False, index=False))))"
   ]
  },
  {
   "cell_type": "markdown",
   "id": "5584bf62-2dc3-481e-9486-3f45d9d61268",
   "metadata": {},
   "source": [
    "# Result"
   ]
  },
  {
   "cell_type": "markdown",
   "id": "cf8bec14-9fa8-4754-8f8f-ba868af63a33",
   "metadata": {},
   "source": [
    "Microsoft Phi 2 model was fine-tuned on around 2k philosophy Q&A pairs using 4‑bit LoRA, aiming to surpass the base model’s answers across nine schools of thought. Blind GPT‑4 scoring on relevance, clarity, and philosophical depth showed the adapter trailing the base model (8.6 overall), with gains only on questions that closely mirrored training data and regressions on conceptually dense or under‑represented topics. The shortfall stems from classic overfitting because of tiny, imbalanced corpus and no validation split causing the adapter to memorise stylistic patterns. The future work must expand the dataset, introduce early‑stopping, and adopt preference‑based refinement to achieve measurable improvement.\n",
    "\n",
    "## Known Issues:\n",
    "\n",
    "- Data scarcity & quality: 2129 prompts are insufficient for nine traditions; some labels contain over simplifications.\n",
    "- Single automatic judge: GPT‑4 rubric is useful but not a substitute for expert human philosophers.\n",
    "- UI quirks: The Gradio Space occasionally times out (> 30 s) when the A100 is busy.\n",
    "\n",
    "## Next Steps:\n",
    "- Curate and expand the corpus to ≥ 10 k high‑fidelity Q&A pairs (or use synthetic self‑instruct plus human filtering).\n",
    "- Validation split + early stopping to arrest over‑fitting.\n",
    "- Lower learning rate (5 e‑5) and/or larger LoRA rank; experiment with adding k_proj/o_proj targets.\n",
    "- Try DPO/RLHF with preference data for depth & style."
   ]
  }
 ],
 "metadata": {
  "kernelspec": {
   "display_name": "Python 3 (ipykernel)",
   "language": "python",
   "name": "python3"
  },
  "language_info": {
   "codemirror_mode": {
    "name": "ipython",
    "version": 3
   },
   "file_extension": ".py",
   "mimetype": "text/x-python",
   "name": "python",
   "nbconvert_exporter": "python",
   "pygments_lexer": "ipython3",
   "version": "3.11.9"
  }
 },
 "nbformat": 4,
 "nbformat_minor": 5
}
